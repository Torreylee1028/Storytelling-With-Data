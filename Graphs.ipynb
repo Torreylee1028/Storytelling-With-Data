{
 "cells": [
  {
   "cell_type": "markdown",
   "metadata": {},
   "source": [
    "# Storytelling With Data: Graphs\n",
    "## Airline Safety"
   ]
  },
  {
   "cell_type": "markdown",
   "metadata": {},
   "source": [
    "## Packages"
   ]
  },
  {
   "cell_type": "code",
   "execution_count": 1,
   "metadata": {},
   "outputs": [],
   "source": [
    "import matplotlib.pyplot as plt\n",
    "import matplotlib as mpl\n",
    "import pandas as pd\n",
    "import numpy as np\n",
    "import squarify\n",
    "from datetime import datetime"
   ]
  },
  {
   "cell_type": "markdown",
   "metadata": {},
   "source": [
    "## Prep Data"
   ]
  },
  {
   "cell_type": "code",
   "execution_count": 2,
   "metadata": {},
   "outputs": [],
   "source": [
    "air = pd.read_csv('airline-safety.csv')"
   ]
  },
  {
   "cell_type": "code",
   "execution_count": 3,
   "metadata": {},
   "outputs": [
    {
     "data": {
      "text/html": [
       "<div>\n",
       "<style scoped>\n",
       "    .dataframe tbody tr th:only-of-type {\n",
       "        vertical-align: middle;\n",
       "    }\n",
       "\n",
       "    .dataframe tbody tr th {\n",
       "        vertical-align: top;\n",
       "    }\n",
       "\n",
       "    .dataframe thead th {\n",
       "        text-align: right;\n",
       "    }\n",
       "</style>\n",
       "<table border=\"1\" class=\"dataframe\">\n",
       "  <thead>\n",
       "    <tr style=\"text-align: right;\">\n",
       "      <th></th>\n",
       "      <th>airline</th>\n",
       "      <th>avail_seat_km_per_week</th>\n",
       "      <th>incidents_85_99</th>\n",
       "      <th>fatal_accidents_85_99</th>\n",
       "      <th>fatalities_85_99</th>\n",
       "      <th>incidents_00_14</th>\n",
       "      <th>fatal_accidents_00_14</th>\n",
       "      <th>fatalities_00_14</th>\n",
       "    </tr>\n",
       "  </thead>\n",
       "  <tbody>\n",
       "    <tr>\n",
       "      <td>0</td>\n",
       "      <td>Aer Lingus</td>\n",
       "      <td>320906734</td>\n",
       "      <td>2</td>\n",
       "      <td>0</td>\n",
       "      <td>0</td>\n",
       "      <td>0</td>\n",
       "      <td>0</td>\n",
       "      <td>0</td>\n",
       "    </tr>\n",
       "    <tr>\n",
       "      <td>1</td>\n",
       "      <td>Aeroflot*</td>\n",
       "      <td>1197672318</td>\n",
       "      <td>76</td>\n",
       "      <td>14</td>\n",
       "      <td>128</td>\n",
       "      <td>6</td>\n",
       "      <td>1</td>\n",
       "      <td>88</td>\n",
       "    </tr>\n",
       "    <tr>\n",
       "      <td>2</td>\n",
       "      <td>Aerolineas Argentinas</td>\n",
       "      <td>385803648</td>\n",
       "      <td>6</td>\n",
       "      <td>0</td>\n",
       "      <td>0</td>\n",
       "      <td>1</td>\n",
       "      <td>0</td>\n",
       "      <td>0</td>\n",
       "    </tr>\n",
       "    <tr>\n",
       "      <td>3</td>\n",
       "      <td>Aeromexico*</td>\n",
       "      <td>596871813</td>\n",
       "      <td>3</td>\n",
       "      <td>1</td>\n",
       "      <td>64</td>\n",
       "      <td>5</td>\n",
       "      <td>0</td>\n",
       "      <td>0</td>\n",
       "    </tr>\n",
       "    <tr>\n",
       "      <td>4</td>\n",
       "      <td>Air Canada</td>\n",
       "      <td>1865253802</td>\n",
       "      <td>2</td>\n",
       "      <td>0</td>\n",
       "      <td>0</td>\n",
       "      <td>2</td>\n",
       "      <td>0</td>\n",
       "      <td>0</td>\n",
       "    </tr>\n",
       "  </tbody>\n",
       "</table>\n",
       "</div>"
      ],
      "text/plain": [
       "                 airline  avail_seat_km_per_week  incidents_85_99  \\\n",
       "0             Aer Lingus               320906734                2   \n",
       "1              Aeroflot*              1197672318               76   \n",
       "2  Aerolineas Argentinas               385803648                6   \n",
       "3            Aeromexico*               596871813                3   \n",
       "4             Air Canada              1865253802                2   \n",
       "\n",
       "   fatal_accidents_85_99  fatalities_85_99  incidents_00_14  \\\n",
       "0                      0                 0                0   \n",
       "1                     14               128                6   \n",
       "2                      0                 0                1   \n",
       "3                      1                64                5   \n",
       "4                      0                 0                2   \n",
       "\n",
       "   fatal_accidents_00_14  fatalities_00_14  \n",
       "0                      0                 0  \n",
       "1                      1                88  \n",
       "2                      0                 0  \n",
       "3                      0                 0  \n",
       "4                      0                 0  "
      ]
     },
     "execution_count": 3,
     "metadata": {},
     "output_type": "execute_result"
    }
   ],
   "source": [
    "air.head()"
   ]
  },
  {
   "cell_type": "code",
   "execution_count": 4,
   "metadata": {},
   "outputs": [],
   "source": [
    "# create columns for incidents without fatal accidents\n",
    "air[\"incident_without_fatal_85_99\"] = air[\"incidents_85_99\"] - air[\"fatal_accidents_85_99\"]\n",
    "air[\"incident_without_fatal_00_14\"] = air[\"incidents_00_14\"] - air[\"fatal_accidents_00_14\"]"
   ]
  },
  {
   "cell_type": "code",
   "execution_count": 5,
   "metadata": {
    "scrolled": true
   },
   "outputs": [],
   "source": [
    "# create columns for deaths per available seats \n",
    "air[\"death_per_avail_seat_85_99\"] = air[\"fatalities_85_99\"] / air[\"avail_seat_km_per_week\"]\n",
    "air[\"death_per_avail_seat_00_14\"] = air[\"fatalities_00_14\"] / air[\"avail_seat_km_per_week\"]"
   ]
  },
  {
   "cell_type": "code",
   "execution_count": 6,
   "metadata": {},
   "outputs": [],
   "source": [
    "# seat per billion\n",
    "air['seat_per_billion'] = air['avail_seat_km_per_week']/1000000000"
   ]
  },
  {
   "cell_type": "code",
   "execution_count": 7,
   "metadata": {},
   "outputs": [],
   "source": [
    "# incidents per billion\n",
    "air['incident_per_bill_85_99'] = air['incidents_85_99'] / air['seat_per_billion']\n",
    "air['incident_per_bill_00_14'] = air['incidents_00_14'] / air['seat_per_billion']"
   ]
  },
  {
   "cell_type": "code",
   "execution_count": 8,
   "metadata": {},
   "outputs": [],
   "source": [
    "# Year column\n",
    "air[\"85-99\"] = \"1985-1999\"\n",
    "air[\"00-14\"] = \"2000-2014\""
   ]
  },
  {
   "cell_type": "code",
   "execution_count": 9,
   "metadata": {},
   "outputs": [],
   "source": [
    "# incidents per seat\n",
    "air['incident_per_seat_85_99'] = air['incidents_85_99'] / air['avail_seat_km_per_week']\n",
    "air['incident_per_seat_00_14'] = air['incidents_00_14'] / air['avail_seat_km_per_week']"
   ]
  },
  {
   "cell_type": "code",
   "execution_count": 10,
   "metadata": {},
   "outputs": [],
   "source": [
    "# deaths per billion\n",
    "air['deaths_per_bill_85_99'] = air['fatalities_85_99'] / air['seat_per_billion']\n",
    "air['deaths_per_bill_00_14'] = air['fatalities_00_14'] / air['seat_per_billion']"
   ]
  },
  {
   "cell_type": "markdown",
   "metadata": {},
   "source": [
    "## Total Airline Incidents"
   ]
  },
  {
   "cell_type": "code",
   "execution_count": 11,
   "metadata": {
    "scrolled": false
   },
   "outputs": [
    {
     "data": {
      "image/png": "[encoded data removed]",
      "text/plain": [
       "<Figure size 864x504 with 1 Axes>"
      ]
     },
     "metadata": {
      "needs_background": "light"
     },
     "output_type": "display_data"
    }
   ],
   "source": [
    "# set default font color\n",
    "mpl.rcParams['text.color'] = '#4c4c4c'\n",
    "\n",
    "font = {'family': 'Arial',\n",
    "       'color': '#045a8d',\n",
    "       'size': 20}\n",
    "\n",
    "# setup 85-99 data\n",
    "fatal_85_99 = np.sum(air['fatal_accidents_85_99'])\n",
    "incident_85_99 = np.sum(air['incidents_85_99'])\n",
    "years_85_99 = air['85-99']\n",
    "\n",
    "# setup 00-14 data\n",
    "fatal_00_14 = np.sum(air['fatal_accidents_00_14'])\n",
    "incident_00_14 = np.sum(air['incidents_00_14'])\n",
    "years_00_14 = air['00-14']\n",
    "\n",
    "# create figure\n",
    "fig, ax = plt.subplots(figsize = (12,7))\n",
    "\n",
    "# add bars\n",
    "ax.bar(years_85_99, incident_85_99, color = \"#74a9cf\", label='Incidents')\n",
    "ax.bar(years_85_99, fatal_85_99, color = \"#045a8d\", label='Fatal')\n",
    "\n",
    "ax.bar(years_00_14, incident_00_14, color = \"#74a9cf\")\n",
    "ax.bar(years_00_14, fatal_00_14, color = \"#045a8d\")\n",
    "\n",
    "\n",
    "# horizontal grid\n",
    "ax.yaxis.grid(False)\n",
    "\n",
    "# vertical grid\n",
    "ax.xaxis.grid(False)\n",
    "\n",
    "# set labels\n",
    "ax.set_title('Airline incidents have nearly cut in half in the last 14 years', \n",
    "             x = -.1, pad = 15, fontdict=font)\n",
    "#ax.set_xlabel('', fontsize = 13)\n",
    "ax.set_ylabel('Total', fontsize = 15, color='#4c4c4c')\n",
    "\n",
    "# set axis label positions\n",
    "ax.yaxis.set_label_coords(-.075,.92)\n",
    "ax.title.set_position([.28, .99])\n",
    "\n",
    "# ticks\n",
    "plt.xticks(fontsize=14, horizontalalignment='center', color='#191919')\n",
    "plt.yticks(fontsize=14, color='#4c4c4c')\n",
    "\n",
    "# legend\n",
    "ax.legend(ncol = 2, loc = 'upper right', prop={'size':15}).draw_frame(False)\n",
    "\n",
    "# remove spines\n",
    "ax.spines['top'].set_visible(False)\n",
    "ax.spines['right'].set_visible(False)\n",
    "ax.spines['left'].set_visible(False)\n",
    "ax.spines['bottom'].set_visible(False)\n",
    "\n",
    "\n",
    "plt.savefig('stacked_incidents.svg', format='svg', dpi=300, bbox_inches='tight')\n",
    "\n",
    "plt.show()"
   ]
  },
  {
   "cell_type": "code",
   "execution_count": 12,
   "metadata": {
    "scrolled": false
   },
   "outputs": [
    {
     "data": {
      "image/png": "[encoded data removed]",
      "text/plain": [
       "<Figure size 720x504 with 1 Axes>"
      ]
     },
     "metadata": {
      "needs_background": "light"
     },
     "output_type": "display_data"
    }
   ],
   "source": [
    "font = {'family': 'Arial',\n",
    "       'color': '#1c1c1c',\n",
    "       'size': 20}\n",
    "\n",
    "incident_85_99 = np.sum(air['incidents_85_99'])\n",
    "years_85_99 = air['85-99']\n",
    "\n",
    "incident_00_14 = np.sum(air['incidents_00_14'])\n",
    "years_00_14 = air['00-14']\n",
    "\n",
    "# create figure\n",
    "fig, ax = plt.subplots(figsize = (10,7))\n",
    "\n",
    "# add bars\n",
    "ax.bar(years_85_99, incident_85_99, color = \"#bfbfbf\", label='Incidents')\n",
    "\n",
    "\n",
    "ax.bar(years_00_14, incident_00_14, color = \"#6baed6\")\n",
    "\n",
    "\n",
    "\n",
    "# horizontal grid\n",
    "ax.yaxis.grid(False)\n",
    "\n",
    "# vertical grid\n",
    "ax.xaxis.grid(False)\n",
    "\n",
    "#ax.set_title('Airline incidents cut in half', \n",
    "             #fontdict=font,\n",
    "             #pad = 15)\n",
    "#ax.set_xlabel('Years', fontsize = 13)\n",
    "#ax.set_ylabel('Total', fontsize = 15)\n",
    "\n",
    "# remove y axis ticks\n",
    "ax.axes.yaxis.set_ticks([])\n",
    "\n",
    "# set axis label positions\n",
    "#ax.yaxis.set_label_coords(-.06,.51)\n",
    "#ax.xaxis.set_label_coords(.26, -.08)\n",
    "ax.title.set_position([.255, 0])\n",
    "\n",
    "# tick size\n",
    "plt.xticks(fontsize = 17, fontname = \"Arial\")\n",
    "#plt.yticks(fontsize = 14)\n",
    "\n",
    "# remove spines\n",
    "ax.spines['top'].set_visible(False)\n",
    "ax.spines['right'].set_visible(False)\n",
    "ax.spines['left'].set_visible(False)\n",
    "ax.spines['bottom'].set_visible(False)\n",
    "\n",
    "plt.savefig('air_incidents_info.svg', format='svg', dpi=300, bbox_inches='tight')\n",
    "\n",
    "plt.show()"
   ]
  },
  {
   "cell_type": "markdown",
   "metadata": {},
   "source": [
    "## Airline Fatal Accidents"
   ]
  },
  {
   "cell_type": "code",
   "execution_count": 13,
   "metadata": {},
   "outputs": [
    {
     "data": {
      "image/png": "[encoded data removed]",
      "text/plain": [
       "<Figure size 504x504 with 1 Axes>"
      ]
     },
     "metadata": {
      "needs_background": "light"
     },
     "output_type": "display_data"
    }
   ],
   "source": [
    "font = {'family': 'Arial',\n",
    "       'color': '#045a8d',\n",
    "       'size': 24}\n",
    "\n",
    "# set up data\n",
    "fatal_accidents_85 = np.sum(air['fatal_accidents_85_99'])\n",
    "fatal_accidents_00 = np.sum(air['fatal_accidents_00_14'])\n",
    "years_85_99 = air['85-99']\n",
    "years_00_14 = air['00-14']\n",
    "\n",
    "# create figure\n",
    "fig, ax = plt.subplots(figsize = (7,7))\n",
    "\n",
    "# add bars\n",
    "ax.barh(years_85_99, fatal_accidents_85, color = \"#bfbfbf\")\n",
    "ax.barh(years_00_14, fatal_accidents_00, color = \"#6baed6\")\n",
    "\n",
    "# labels\n",
    "ax.set_title('Airline fatal accidents down 69.7%', fontdict=font, pad=15)\n",
    "ax.set_xlabel('Total Fatal Accidents', fontsize = 15, color='#4c4c4c')\n",
    "ax.set_ylabel('Years', fontsize = 17, color='#4c4c4c')\n",
    "\n",
    "# set axis label positions\n",
    "ax.yaxis.set_label_coords(-.06,.51)\n",
    "ax.xaxis.set_label_coords(.15, -.08)\n",
    "ax.title.set_position([.35, 0])\n",
    "\n",
    "# horizontal grid\n",
    "ax.yaxis.grid(False)\n",
    "\n",
    "# vertical grid\n",
    "ax.xaxis.grid(False)\n",
    "\n",
    "# remove y axis ticks\n",
    "#ax.axes.yaxis.set_ticks([])\n",
    "\n",
    "# configure ticks\n",
    "plt.yticks(fontsize = 15, rotation=90, va='center', color='#4c4c4c')\n",
    "plt.xticks(fontsize = 15, color='#4c4c4c')\n",
    "\n",
    "#ax.legend(ncol = 2, loc = 'upper right', prop={'size':15}).draw_frame(False)\n",
    "\n",
    "# remove spines\n",
    "ax.spines['top'].set_visible(False)\n",
    "ax.spines['right'].set_visible(False)\n",
    "ax.spines['left'].set_visible(True)\n",
    "ax.spines['bottom'].set_visible(True)\n",
    "\n",
    "# spine color\n",
    "ax.spines['left'].set_color('#4c4c4c')\n",
    "ax.spines['bottom'].set_color('#4c4c4c')\n",
    "\n",
    "# tick line color\n",
    "for t in ax.xaxis.get_ticklines(): t.set_color('#4c4c4c')\n",
    "for t in ax.yaxis.get_ticklines(): t.set_color('#4c4c4c')\n",
    "\n",
    "plt.savefig('fatal_bar_h.svg', format='svg', dpi=300, bbox_inches='tight')\n",
    "\n",
    "plt.show()"
   ]
  },
  {
   "cell_type": "markdown",
   "metadata": {},
   "source": [
    "## Top Airlines with Incidents"
   ]
  },
  {
   "cell_type": "code",
   "execution_count": 14,
   "metadata": {},
   "outputs": [],
   "source": [
    "# incidents 2000-2014\n",
    "# sort data decreasing incident value\n",
    "sort_incident_00 = air.sort_values('incident_per_bill_00_14', ascending=False)"
   ]
  },
  {
   "cell_type": "code",
   "execution_count": 15,
   "metadata": {},
   "outputs": [
    {
     "data": {
      "text/html": [
       "<div>\n",
       "<style scoped>\n",
       "    .dataframe tbody tr th:only-of-type {\n",
       "        vertical-align: middle;\n",
       "    }\n",
       "\n",
       "    .dataframe tbody tr th {\n",
       "        vertical-align: top;\n",
       "    }\n",
       "\n",
       "    .dataframe thead th {\n",
       "        text-align: right;\n",
       "    }\n",
       "</style>\n",
       "<table border=\"1\" class=\"dataframe\">\n",
       "  <thead>\n",
       "    <tr style=\"text-align: right;\">\n",
       "      <th></th>\n",
       "      <th>airline</th>\n",
       "      <th>avail_seat_km_per_week</th>\n",
       "      <th>incidents_85_99</th>\n",
       "      <th>fatal_accidents_85_99</th>\n",
       "      <th>fatalities_85_99</th>\n",
       "      <th>incidents_00_14</th>\n",
       "      <th>fatal_accidents_00_14</th>\n",
       "      <th>fatalities_00_14</th>\n",
       "      <th>incident_without_fatal_85_99</th>\n",
       "      <th>incident_without_fatal_00_14</th>\n",
       "      <th>...</th>\n",
       "      <th>death_per_avail_seat_00_14</th>\n",
       "      <th>seat_per_billion</th>\n",
       "      <th>incident_per_bill_85_99</th>\n",
       "      <th>incident_per_bill_00_14</th>\n",
       "      <th>85-99</th>\n",
       "      <th>00-14</th>\n",
       "      <th>incident_per_seat_85_99</th>\n",
       "      <th>incident_per_seat_00_14</th>\n",
       "      <th>deaths_per_bill_85_99</th>\n",
       "      <th>deaths_per_bill_00_14</th>\n",
       "    </tr>\n",
       "  </thead>\n",
       "  <tbody>\n",
       "    <tr>\n",
       "      <td>35</td>\n",
       "      <td>Pakistan International</td>\n",
       "      <td>348563137</td>\n",
       "      <td>8</td>\n",
       "      <td>3</td>\n",
       "      <td>234</td>\n",
       "      <td>10</td>\n",
       "      <td>2</td>\n",
       "      <td>46</td>\n",
       "      <td>5</td>\n",
       "      <td>8</td>\n",
       "      <td>...</td>\n",
       "      <td>1.319704e-07</td>\n",
       "      <td>0.348563</td>\n",
       "      <td>22.951366</td>\n",
       "      <td>28.689207</td>\n",
       "      <td>1985-1999</td>\n",
       "      <td>2000-2014</td>\n",
       "      <td>2.295137e-08</td>\n",
       "      <td>2.868921e-08</td>\n",
       "      <td>671.327444</td>\n",
       "      <td>131.970352</td>\n",
       "    </tr>\n",
       "    <tr>\n",
       "      <td>40</td>\n",
       "      <td>Saudi Arabian</td>\n",
       "      <td>859673901</td>\n",
       "      <td>7</td>\n",
       "      <td>2</td>\n",
       "      <td>313</td>\n",
       "      <td>11</td>\n",
       "      <td>0</td>\n",
       "      <td>0</td>\n",
       "      <td>5</td>\n",
       "      <td>11</td>\n",
       "      <td>...</td>\n",
       "      <td>0.000000e+00</td>\n",
       "      <td>0.859674</td>\n",
       "      <td>8.142622</td>\n",
       "      <td>12.795550</td>\n",
       "      <td>1985-1999</td>\n",
       "      <td>2000-2014</td>\n",
       "      <td>8.142622e-09</td>\n",
       "      <td>1.279555e-08</td>\n",
       "      <td>364.091546</td>\n",
       "      <td>0.000000</td>\n",
       "    </tr>\n",
       "    <tr>\n",
       "      <td>44</td>\n",
       "      <td>Sri Lankan / AirLanka</td>\n",
       "      <td>325582976</td>\n",
       "      <td>2</td>\n",
       "      <td>1</td>\n",
       "      <td>14</td>\n",
       "      <td>4</td>\n",
       "      <td>0</td>\n",
       "      <td>0</td>\n",
       "      <td>1</td>\n",
       "      <td>4</td>\n",
       "      <td>...</td>\n",
       "      <td>0.000000e+00</td>\n",
       "      <td>0.325583</td>\n",
       "      <td>6.142827</td>\n",
       "      <td>12.285655</td>\n",
       "      <td>1985-1999</td>\n",
       "      <td>2000-2014</td>\n",
       "      <td>6.142827e-09</td>\n",
       "      <td>1.228565e-08</td>\n",
       "      <td>42.999791</td>\n",
       "      <td>0.000000</td>\n",
       "    </tr>\n",
       "    <tr>\n",
       "      <td>22</td>\n",
       "      <td>Ethiopian Airlines</td>\n",
       "      <td>488560643</td>\n",
       "      <td>25</td>\n",
       "      <td>5</td>\n",
       "      <td>167</td>\n",
       "      <td>5</td>\n",
       "      <td>2</td>\n",
       "      <td>92</td>\n",
       "      <td>20</td>\n",
       "      <td>3</td>\n",
       "      <td>...</td>\n",
       "      <td>1.883083e-07</td>\n",
       "      <td>0.488561</td>\n",
       "      <td>51.170720</td>\n",
       "      <td>10.234144</td>\n",
       "      <td>1985-1999</td>\n",
       "      <td>2000-2014</td>\n",
       "      <td>5.117072e-08</td>\n",
       "      <td>1.023414e-08</td>\n",
       "      <td>341.820411</td>\n",
       "      <td>188.308251</td>\n",
       "    </tr>\n",
       "    <tr>\n",
       "      <td>38</td>\n",
       "      <td>Royal Air Maroc</td>\n",
       "      <td>295705339</td>\n",
       "      <td>5</td>\n",
       "      <td>3</td>\n",
       "      <td>51</td>\n",
       "      <td>3</td>\n",
       "      <td>0</td>\n",
       "      <td>0</td>\n",
       "      <td>2</td>\n",
       "      <td>3</td>\n",
       "      <td>...</td>\n",
       "      <td>0.000000e+00</td>\n",
       "      <td>0.295705</td>\n",
       "      <td>16.908724</td>\n",
       "      <td>10.145234</td>\n",
       "      <td>1985-1999</td>\n",
       "      <td>2000-2014</td>\n",
       "      <td>1.690872e-08</td>\n",
       "      <td>1.014523e-08</td>\n",
       "      <td>172.468986</td>\n",
       "      <td>0.000000</td>\n",
       "    </tr>\n",
       "  </tbody>\n",
       "</table>\n",
       "<p>5 rows × 21 columns</p>\n",
       "</div>"
      ],
      "text/plain": [
       "                   airline  avail_seat_km_per_week  incidents_85_99  \\\n",
       "35  Pakistan International               348563137                8   \n",
       "40           Saudi Arabian               859673901                7   \n",
       "44   Sri Lankan / AirLanka               325582976                2   \n",
       "22      Ethiopian Airlines               488560643               25   \n",
       "38         Royal Air Maroc               295705339                5   \n",
       "\n",
       "    fatal_accidents_85_99  fatalities_85_99  incidents_00_14  \\\n",
       "35                      3               234               10   \n",
       "40                      2               313               11   \n",
       "44                      1                14                4   \n",
       "22                      5               167                5   \n",
       "38                      3                51                3   \n",
       "\n",
       "    fatal_accidents_00_14  fatalities_00_14  incident_without_fatal_85_99  \\\n",
       "35                      2                46                             5   \n",
       "40                      0                 0                             5   \n",
       "44                      0                 0                             1   \n",
       "22                      2                92                            20   \n",
       "38                      0                 0                             2   \n",
       "\n",
       "    incident_without_fatal_00_14  ...  death_per_avail_seat_00_14  \\\n",
       "35                             8  ...                1.319704e-07   \n",
       "40                            11  ...                0.000000e+00   \n",
       "44                             4  ...                0.000000e+00   \n",
       "22                             3  ...                1.883083e-07   \n",
       "38                             3  ...                0.000000e+00   \n",
       "\n",
       "    seat_per_billion  incident_per_bill_85_99  incident_per_bill_00_14  \\\n",
       "35          0.348563                22.951366                28.689207   \n",
       "40          0.859674                 8.142622                12.795550   \n",
       "44          0.325583                 6.142827                12.285655   \n",
       "22          0.488561                51.170720                10.234144   \n",
       "38          0.295705                16.908724                10.145234   \n",
       "\n",
       "        85-99      00-14 incident_per_seat_85_99  incident_per_seat_00_14  \\\n",
       "35  1985-1999  2000-2014            2.295137e-08             2.868921e-08   \n",
       "40  1985-1999  2000-2014            8.142622e-09             1.279555e-08   \n",
       "44  1985-1999  2000-2014            6.142827e-09             1.228565e-08   \n",
       "22  1985-1999  2000-2014            5.117072e-08             1.023414e-08   \n",
       "38  1985-1999  2000-2014            1.690872e-08             1.014523e-08   \n",
       "\n",
       "    deaths_per_bill_85_99  deaths_per_bill_00_14  \n",
       "35             671.327444             131.970352  \n",
       "40             364.091546               0.000000  \n",
       "44              42.999791               0.000000  \n",
       "22             341.820411             188.308251  \n",
       "38             172.468986               0.000000  \n",
       "\n",
       "[5 rows x 21 columns]"
      ]
     },
     "execution_count": 15,
     "metadata": {},
     "output_type": "execute_result"
    }
   ],
   "source": [
    "sort_incident_00.head()"
   ]
  },
  {
   "cell_type": "code",
   "execution_count": 16,
   "metadata": {},
   "outputs": [
    {
     "data": {
      "image/png": "[encoded data removed]",
      "text/plain": [
       "<Figure size 864x504 with 1 Axes>"
      ]
     },
     "metadata": {
      "needs_background": "light"
     },
     "output_type": "display_data"
    }
   ],
   "source": [
    "color = ['#2b8cbe', '#74a9cf', '#bdc9e1', '#f1eef6']\n",
    "\n",
    "font = {'family': 'Arial',\n",
    "       'color': '#045a8d',\n",
    "       'size': 12}\n",
    "\n",
    "labels = sort_incident_00.apply(lambda x: str(x['airline']) + '\\n \\n ' + str(np.round(x['incident_per_bill_00_14'],1)), axis=1)\n",
    "\n",
    "fig, ax = plt.subplots(1, figsize = (12,7))\n",
    "squarify.plot(sizes = sort_incident_00['incident_per_bill_00_14'][:4],\n",
    "              label= labels, alpha = .8,\n",
    "             color = color,\n",
    "             bar_kwargs=dict(linewidth=2, edgecolor='#ffffff'))\n",
    "plt.rc('font', size=20)\n",
    "\n",
    "plt.suptitle('$\\\\bf{Top\\ Airlines\\ With\\ Incidents:\\ 2000-2014}$', x = .445, y = 1, fontdict=font)\n",
    "ax.set_title('Per 1 billion seat kilometers', fontsize = 16, pad = 15, loc = \"left\")\n",
    "\n",
    "plt.axis('off')\n",
    "\n",
    "plt.savefig('3rd_world_14.svg', format='svg', dpi=300, bbox_inches='tight')\n",
    "plt.show()"
   ]
  },
  {
   "cell_type": "markdown",
   "metadata": {},
   "source": [
    "## Incident per avail seat"
   ]
  },
  {
   "cell_type": "code",
   "execution_count": 17,
   "metadata": {},
   "outputs": [
    {
     "data": {
      "image/png": "[encoded data removed]",
      "text/plain": [
       "<Figure size 864x504 with 1 Axes>"
      ]
     },
     "metadata": {
      "needs_background": "light"
     },
     "output_type": "display_data"
    }
   ],
   "source": [
    "font = {'family': 'Arial',\n",
    "       'color': '#045a8d',\n",
    "       'size': 20}\n",
    "\n",
    "\n",
    "incident_seat85 = air['incident_per_bill_85_99']\n",
    "incident_seat00 = air['incident_per_bill_00_14']\n",
    "\n",
    "fig, ax = plt.subplots(figsize = (12,7))\n",
    "\n",
    "ax.scatter(incident_seat85, incident_seat00, color='#74a9cf')\n",
    "\n",
    "# change y axis starting point\n",
    "#ax.set_ylim(440,)\n",
    "\n",
    "# grid\n",
    "ax.xaxis.grid(False)\n",
    "ax.yaxis.grid(False)\n",
    "\n",
    "# set labels\n",
    "ax.set_title('Some airlines have increased incidents in last 14 years', \n",
    "             x = -.14, pad = 15, fontdict=font)\n",
    "ax.set_xlabel('1985-1999 incidents per billion seat km', fontsize = 14, color='#4c4c4c')\n",
    "ax.set_ylabel('2000-2014 incidents per billion seat km', fontsize = 14, color='#4c4c4c')\n",
    "\n",
    "# set axis label positions\n",
    "ax.yaxis.set_label_coords(-.06,.64)\n",
    "ax.xaxis.set_label_coords(.21, -.08)\n",
    "ax.title.set_position([.28, 1.03])\n",
    "\n",
    "# legend and ticks\n",
    "plt.xticks(fontsize=13, horizontalalignment='center', color='#4c4c4c')\n",
    "plt.yticks(fontsize=13, color='#4c4c4c')\n",
    "\n",
    "# remove spines\n",
    "ax.spines['top'].set_visible(False)\n",
    "ax.spines['right'].set_visible(False)\n",
    "ax.spines['left'].set_visible(True)\n",
    "ax.spines['bottom'].set_visible(True)\n",
    "\n",
    "# spine color\n",
    "ax.spines['left'].set_color('#4c4c4c')\n",
    "ax.spines['bottom'].set_color('#4c4c4c')\n",
    "\n",
    "# tick line color\n",
    "for t in ax.xaxis.get_ticklines(): t.set_color('#4c4c4c')\n",
    "for t in ax.yaxis.get_ticklines(): t.set_color('#4c4c4c')\n",
    "\n",
    "# add comma to y axis tick values\n",
    "ax.yaxis.set_major_formatter(mpl.ticker.StrMethodFormatter('{x:,.0f}'))\n",
    "\n",
    "# export\n",
    "plt.savefig('scatter_increase_incidents.svg', format='svg', dpi=300, bbox_inches='tight')\n",
    "\n",
    "plt.show()"
   ]
  },
  {
   "cell_type": "markdown",
   "metadata": {},
   "source": [
    "## Deaths per avail seat"
   ]
  },
  {
   "cell_type": "code",
   "execution_count": 18,
   "metadata": {},
   "outputs": [
    {
     "data": {
      "image/png": "[encoded data removed]",
      "text/plain": [
       "<Figure size 864x504 with 1 Axes>"
      ]
     },
     "metadata": {
      "needs_background": "light"
     },
     "output_type": "display_data"
    }
   ],
   "source": [
    "font = {'family': 'Arial',\n",
    "       'color': '#045a8d',\n",
    "       'size': 20}\n",
    "\n",
    "\n",
    "deaths_seat85 = air['deaths_per_bill_85_99']\n",
    "deaths_seat00 = air['deaths_per_bill_00_14']\n",
    "\n",
    "fig, ax = plt.subplots(figsize = (12,7))\n",
    "\n",
    "ax.scatter(deaths_seat85, deaths_seat00, color='#2b8cbe')\n",
    "\n",
    "# change y axis starting point\n",
    "#ax.set_ylim(440,)\n",
    "\n",
    "# grid\n",
    "ax.xaxis.grid(False)\n",
    "ax.yaxis.grid(False)\n",
    "\n",
    "# set labels\n",
    "ax.set_title('Fatalities are unpredictable across airlines', \n",
    "             pad = 15, fontdict=font)\n",
    "ax.set_xlabel('1985-1999 deaths per billion seat km', fontsize = 14, color='#4c4c4c')\n",
    "ax.set_ylabel('2000-2014 deaths per billion seat km', fontsize = 14, color='#4c4c4c')\n",
    "\n",
    "# set axis label positions\n",
    "ax.yaxis.set_label_coords(-.07,.67)\n",
    "ax.xaxis.set_label_coords(.21, -.08)\n",
    "ax.title.set_position([.19, 1.03])\n",
    "\n",
    "# legend and ticks\n",
    "plt.xticks(fontsize=13, horizontalalignment='center', color='#4c4c4c')\n",
    "plt.yticks(fontsize=13, color='#4c4c4c')\n",
    "\n",
    "# remove spines\n",
    "ax.spines['top'].set_visible(False)\n",
    "ax.spines['right'].set_visible(False)\n",
    "ax.spines['left'].set_visible(True)\n",
    "ax.spines['bottom'].set_visible(True)\n",
    "\n",
    "# spine color\n",
    "ax.spines['left'].set_color('#4c4c4c')\n",
    "ax.spines['bottom'].set_color('#4c4c4c')\n",
    "\n",
    "# tick line color\n",
    "for t in ax.xaxis.get_ticklines(): t.set_color('#4c4c4c')\n",
    "for t in ax.yaxis.get_ticklines(): t.set_color('#4c4c4c')\n",
    "\n",
    "# add comma to y axis tick values\n",
    "ax.yaxis.set_major_formatter(mpl.ticker.StrMethodFormatter('{x:,.0f}'))\n",
    "\n",
    "# export\n",
    "plt.savefig('scatter_deaths_unpredictable.svg', format='svg', dpi=300, bbox_inches='tight')\n",
    "\n",
    "plt.show()"
   ]
  },
  {
   "cell_type": "markdown",
   "metadata": {},
   "source": [
    "# Airline Revenue Data"
   ]
  },
  {
   "cell_type": "code",
   "execution_count": 19,
   "metadata": {},
   "outputs": [],
   "source": [
    "revenue = pd.read_excel('airline_revenue.xlsx')"
   ]
  },
  {
   "cell_type": "code",
   "execution_count": 20,
   "metadata": {},
   "outputs": [
    {
     "data": {
      "text/html": [
       "<div>\n",
       "<style scoped>\n",
       "    .dataframe tbody tr th:only-of-type {\n",
       "        vertical-align: middle;\n",
       "    }\n",
       "\n",
       "    .dataframe tbody tr th {\n",
       "        vertical-align: top;\n",
       "    }\n",
       "\n",
       "    .dataframe thead th {\n",
       "        text-align: right;\n",
       "    }\n",
       "</style>\n",
       "<table border=\"1\" class=\"dataframe\">\n",
       "  <thead>\n",
       "    <tr style=\"text-align: right;\">\n",
       "      <th></th>\n",
       "      <th>Year</th>\n",
       "      <th>Month</th>\n",
       "      <th>DOMESTIC</th>\n",
       "      <th>INTERNATIONAL</th>\n",
       "      <th>TOTAL</th>\n",
       "    </tr>\n",
       "  </thead>\n",
       "  <tbody>\n",
       "    <tr>\n",
       "      <td>0</td>\n",
       "      <td>2002</td>\n",
       "      <td>10</td>\n",
       "      <td>39181901</td>\n",
       "      <td>31535229</td>\n",
       "      <td>70717130</td>\n",
       "    </tr>\n",
       "    <tr>\n",
       "      <td>1</td>\n",
       "      <td>2002</td>\n",
       "      <td>11</td>\n",
       "      <td>36462419</td>\n",
       "      <td>28497161</td>\n",
       "      <td>64959580</td>\n",
       "    </tr>\n",
       "    <tr>\n",
       "      <td>2</td>\n",
       "      <td>2002</td>\n",
       "      <td>12</td>\n",
       "      <td>41534214</td>\n",
       "      <td>31761398</td>\n",
       "      <td>73295612</td>\n",
       "    </tr>\n",
       "    <tr>\n",
       "      <td>3</td>\n",
       "      <td>2002</td>\n",
       "      <td>TOTAL</td>\n",
       "      <td>471652206</td>\n",
       "      <td>380094028</td>\n",
       "      <td>851746234</td>\n",
       "    </tr>\n",
       "    <tr>\n",
       "      <td>4</td>\n",
       "      <td>2003</td>\n",
       "      <td>1</td>\n",
       "      <td>36358651</td>\n",
       "      <td>31073669</td>\n",
       "      <td>67432321</td>\n",
       "    </tr>\n",
       "  </tbody>\n",
       "</table>\n",
       "</div>"
      ],
      "text/plain": [
       "   Year  Month   DOMESTIC  INTERNATIONAL      TOTAL\n",
       "0  2002     10   39181901       31535229   70717130\n",
       "1  2002     11   36462419       28497161   64959580\n",
       "2  2002     12   41534214       31761398   73295612\n",
       "3  2002  TOTAL  471652206      380094028  851746234\n",
       "4  2003      1   36358651       31073669   67432321"
      ]
     },
     "execution_count": 20,
     "metadata": {},
     "output_type": "execute_result"
    }
   ],
   "source": [
    "revenue.head()"
   ]
  },
  {
   "cell_type": "code",
   "execution_count": 21,
   "metadata": {},
   "outputs": [],
   "source": [
    "# divide by 1 million\n",
    "revenue['Domestic_mil'] = revenue['DOMESTIC']/1000000\n",
    "revenue['International_mil'] = revenue['INTERNATIONAL']/1000000"
   ]
  },
  {
   "cell_type": "code",
   "execution_count": 22,
   "metadata": {},
   "outputs": [
    {
     "data": {
      "text/html": [
       "<div>\n",
       "<style scoped>\n",
       "    .dataframe tbody tr th:only-of-type {\n",
       "        vertical-align: middle;\n",
       "    }\n",
       "\n",
       "    .dataframe tbody tr th {\n",
       "        vertical-align: top;\n",
       "    }\n",
       "\n",
       "    .dataframe thead th {\n",
       "        text-align: right;\n",
       "    }\n",
       "</style>\n",
       "<table border=\"1\" class=\"dataframe\">\n",
       "  <thead>\n",
       "    <tr style=\"text-align: right;\">\n",
       "      <th></th>\n",
       "      <th>Year</th>\n",
       "      <th>Month</th>\n",
       "      <th>DOMESTIC</th>\n",
       "      <th>INTERNATIONAL</th>\n",
       "      <th>TOTAL</th>\n",
       "      <th>Domestic_mil</th>\n",
       "      <th>International_mil</th>\n",
       "    </tr>\n",
       "  </thead>\n",
       "  <tbody>\n",
       "    <tr>\n",
       "      <td>3</td>\n",
       "      <td>2002</td>\n",
       "      <td>TOTAL</td>\n",
       "      <td>471652206</td>\n",
       "      <td>380094028</td>\n",
       "      <td>851746234</td>\n",
       "      <td>471.652206</td>\n",
       "      <td>380.094028</td>\n",
       "    </tr>\n",
       "    <tr>\n",
       "      <td>16</td>\n",
       "      <td>2003</td>\n",
       "      <td>TOTAL</td>\n",
       "      <td>494172457</td>\n",
       "      <td>370074101</td>\n",
       "      <td>864246558</td>\n",
       "      <td>494.172457</td>\n",
       "      <td>370.074101</td>\n",
       "    </tr>\n",
       "    <tr>\n",
       "      <td>29</td>\n",
       "      <td>2004</td>\n",
       "      <td>TOTAL</td>\n",
       "      <td>544573171</td>\n",
       "      <td>421210122</td>\n",
       "      <td>965783293</td>\n",
       "      <td>544.573171</td>\n",
       "      <td>421.210122</td>\n",
       "    </tr>\n",
       "    <tr>\n",
       "      <td>42</td>\n",
       "      <td>2005</td>\n",
       "      <td>TOTAL</td>\n",
       "      <td>570854623</td>\n",
       "      <td>451385768</td>\n",
       "      <td>1022240392</td>\n",
       "      <td>570.854623</td>\n",
       "      <td>451.385768</td>\n",
       "    </tr>\n",
       "    <tr>\n",
       "      <td>55</td>\n",
       "      <td>2006</td>\n",
       "      <td>TOTAL</td>\n",
       "      <td>576445444</td>\n",
       "      <td>472005316</td>\n",
       "      <td>1048450760</td>\n",
       "      <td>576.445444</td>\n",
       "      <td>472.005316</td>\n",
       "    </tr>\n",
       "  </tbody>\n",
       "</table>\n",
       "</div>"
      ],
      "text/plain": [
       "    Year  Month   DOMESTIC  INTERNATIONAL       TOTAL  Domestic_mil  \\\n",
       "3   2002  TOTAL  471652206      380094028   851746234    471.652206   \n",
       "16  2003  TOTAL  494172457      370074101   864246558    494.172457   \n",
       "29  2004  TOTAL  544573171      421210122   965783293    544.573171   \n",
       "42  2005  TOTAL  570854623      451385768  1022240392    570.854623   \n",
       "55  2006  TOTAL  576445444      472005316  1048450760    576.445444   \n",
       "\n",
       "    International_mil  \n",
       "3          380.094028  \n",
       "16         370.074101  \n",
       "29         421.210122  \n",
       "42         451.385768  \n",
       "55         472.005316  "
      ]
     },
     "execution_count": 22,
     "metadata": {},
     "output_type": "execute_result"
    }
   ],
   "source": [
    "# filter out months to receive only yearly totals\n",
    "revenue_total = revenue[revenue['Month'] == 'TOTAL']\n",
    "\n",
    "# filter year until 2014\n",
    "revenue_total = revenue_total[revenue_total['Year']<=2014]\n",
    "revenue_total.head()"
   ]
  },
  {
   "cell_type": "code",
   "execution_count": 23,
   "metadata": {},
   "outputs": [
    {
     "data": {
      "image/png": "[encoded data removed]",
      "text/plain": [
       "<Figure size 864x504 with 1 Axes>"
      ]
     },
     "metadata": {
      "needs_background": "light"
     },
     "output_type": "display_data"
    }
   ],
   "source": [
    "font = {'family': 'Arial',\n",
    "       'color': '#045a8d',\n",
    "       'size': 20}\n",
    "\n",
    "year = revenue_total['Year']\n",
    "domestic = revenue_total['Domestic_mil']\n",
    "international = revenue_total['International_mil']\n",
    "\n",
    "fig, ax = plt.subplots(figsize = (12,7))\n",
    "\n",
    "ax.plot(year, domestic, linewidth = 3.0, label='Domestic', color='#045a8d')\n",
    "ax.plot(year, international, linewidth = 3.0, label='International', color='#74a9cf')\n",
    "\n",
    "# change y axis starting point\n",
    "#ax.set_ylim(440,)\n",
    "\n",
    "# grid\n",
    "ax.xaxis.grid(False)\n",
    "ax.yaxis.grid(False)\n",
    "\n",
    "# set labels\n",
    "ax.set_title(\"Airline paying passenger miles traveled continues to increase\", \n",
    "             x = -.14, pad = 15, fontdict=font)\n",
    "ax.set_xlabel('Year', fontsize = 14, color='#4c4c4c')\n",
    "ax.set_ylabel('Revenue Passenger Miles (in millions)', fontsize = 14, color='#4c4c4c')\n",
    "\n",
    "# set axis label positions\n",
    "ax.yaxis.set_label_coords(-.07,.65)\n",
    "ax.xaxis.set_label_coords(.05, -.08)\n",
    "ax.title.set_position([.3, 1.03])\n",
    "\n",
    "# legend and ticks\n",
    "ax.legend(fontsize=13, ncol=1, loc='upper left', frameon=False)\n",
    "plt.xticks(fontsize=13, horizontalalignment='center', color='#4c4c4c')\n",
    "plt.yticks(fontsize=13, color='#4c4c4c')\n",
    "\n",
    "# remove spines\n",
    "ax.spines['top'].set_visible(False)\n",
    "ax.spines['right'].set_visible(False)\n",
    "ax.spines['left'].set_visible(True)\n",
    "ax.spines['bottom'].set_visible(True)\n",
    "\n",
    "# spine color\n",
    "ax.spines['left'].set_color('#4c4c4c')\n",
    "ax.spines['bottom'].set_color('#4c4c4c')\n",
    "\n",
    "# tick line color\n",
    "for t in ax.xaxis.get_ticklines(): t.set_color('#4c4c4c')\n",
    "for t in ax.yaxis.get_ticklines(): t.set_color('#4c4c4c')\n",
    "\n",
    "# add comma to y axis tick values\n",
    "ax.yaxis.set_major_formatter(mpl.ticker.StrMethodFormatter('{x:,.0f}'))\n",
    "\n",
    "# export\n",
    "plt.savefig('line_revenue.svg', format='svg', dpi=300, bbox_inches='tight')\n",
    "\n",
    "plt.show()"
   ]
  },
  {
   "cell_type": "markdown",
   "metadata": {},
   "source": [
    "# Airline Load Factor Data"
   ]
  },
  {
   "cell_type": "code",
   "execution_count": 24,
   "metadata": {},
   "outputs": [],
   "source": [
    "# US airlines\n",
    "load = pd.read_excel('load_factor.xlsx')"
   ]
  },
  {
   "cell_type": "code",
   "execution_count": 25,
   "metadata": {},
   "outputs": [
    {
     "data": {
      "text/html": [
       "<div>\n",
       "<style scoped>\n",
       "    .dataframe tbody tr th:only-of-type {\n",
       "        vertical-align: middle;\n",
       "    }\n",
       "\n",
       "    .dataframe tbody tr th {\n",
       "        vertical-align: top;\n",
       "    }\n",
       "\n",
       "    .dataframe thead th {\n",
       "        text-align: right;\n",
       "    }\n",
       "</style>\n",
       "<table border=\"1\" class=\"dataframe\">\n",
       "  <thead>\n",
       "    <tr style=\"text-align: right;\">\n",
       "      <th></th>\n",
       "      <th>Year</th>\n",
       "      <th>Month</th>\n",
       "      <th>DOMESTIC</th>\n",
       "      <th>INTERNATIONAL</th>\n",
       "      <th>TOTAL</th>\n",
       "    </tr>\n",
       "  </thead>\n",
       "  <tbody>\n",
       "    <tr>\n",
       "      <td>0</td>\n",
       "      <td>2002</td>\n",
       "      <td>10</td>\n",
       "      <td>67.93</td>\n",
       "      <td>72.60</td>\n",
       "      <td>69.08</td>\n",
       "    </tr>\n",
       "    <tr>\n",
       "      <td>1</td>\n",
       "      <td>2002</td>\n",
       "      <td>11</td>\n",
       "      <td>66.68</td>\n",
       "      <td>69.92</td>\n",
       "      <td>67.46</td>\n",
       "    </tr>\n",
       "    <tr>\n",
       "      <td>2</td>\n",
       "      <td>2002</td>\n",
       "      <td>12</td>\n",
       "      <td>72.93</td>\n",
       "      <td>74.53</td>\n",
       "      <td>73.31</td>\n",
       "    </tr>\n",
       "    <tr>\n",
       "      <td>3</td>\n",
       "      <td>2002</td>\n",
       "      <td>TOTAL</td>\n",
       "      <td>70.42</td>\n",
       "      <td>76.00</td>\n",
       "      <td>71.78</td>\n",
       "    </tr>\n",
       "    <tr>\n",
       "      <td>4</td>\n",
       "      <td>2003</td>\n",
       "      <td>1</td>\n",
       "      <td>64.44</td>\n",
       "      <td>71.71</td>\n",
       "      <td>66.20</td>\n",
       "    </tr>\n",
       "  </tbody>\n",
       "</table>\n",
       "</div>"
      ],
      "text/plain": [
       "   Year  Month  DOMESTIC  INTERNATIONAL  TOTAL\n",
       "0  2002     10     67.93          72.60  69.08\n",
       "1  2002     11     66.68          69.92  67.46\n",
       "2  2002     12     72.93          74.53  73.31\n",
       "3  2002  TOTAL     70.42          76.00  71.78\n",
       "4  2003      1     64.44          71.71  66.20"
      ]
     },
     "execution_count": 25,
     "metadata": {},
     "output_type": "execute_result"
    }
   ],
   "source": [
    "load.head()"
   ]
  },
  {
   "cell_type": "code",
   "execution_count": 26,
   "metadata": {},
   "outputs": [],
   "source": [
    "# filter by total for year\n",
    "load_totals = load[load['Month']=='TOTAL']\n",
    "\n",
    "# filter years before 2015\n",
    "load_totals = load_totals[load_totals['Year']<=2014]\n",
    "\n",
    "# create % unfilled\n",
    "load_totals['Unfilled_total'] = 100-load_totals['DOMESTIC']"
   ]
  },
  {
   "cell_type": "code",
   "execution_count": 27,
   "metadata": {},
   "outputs": [
    {
     "data": {
      "text/html": [
       "<div>\n",
       "<style scoped>\n",
       "    .dataframe tbody tr th:only-of-type {\n",
       "        vertical-align: middle;\n",
       "    }\n",
       "\n",
       "    .dataframe tbody tr th {\n",
       "        vertical-align: top;\n",
       "    }\n",
       "\n",
       "    .dataframe thead th {\n",
       "        text-align: right;\n",
       "    }\n",
       "</style>\n",
       "<table border=\"1\" class=\"dataframe\">\n",
       "  <thead>\n",
       "    <tr style=\"text-align: right;\">\n",
       "      <th></th>\n",
       "      <th>Year</th>\n",
       "      <th>Month</th>\n",
       "      <th>DOMESTIC</th>\n",
       "      <th>INTERNATIONAL</th>\n",
       "      <th>TOTAL</th>\n",
       "      <th>Unfilled_total</th>\n",
       "    </tr>\n",
       "  </thead>\n",
       "  <tbody>\n",
       "    <tr>\n",
       "      <td>107</td>\n",
       "      <td>2010</td>\n",
       "      <td>TOTAL</td>\n",
       "      <td>82.21</td>\n",
       "      <td>81.74</td>\n",
       "      <td>82.07</td>\n",
       "      <td>17.79</td>\n",
       "    </tr>\n",
       "    <tr>\n",
       "      <td>120</td>\n",
       "      <td>2011</td>\n",
       "      <td>TOTAL</td>\n",
       "      <td>82.88</td>\n",
       "      <td>80.35</td>\n",
       "      <td>82.10</td>\n",
       "      <td>17.12</td>\n",
       "    </tr>\n",
       "    <tr>\n",
       "      <td>133</td>\n",
       "      <td>2012</td>\n",
       "      <td>TOTAL</td>\n",
       "      <td>83.38</td>\n",
       "      <td>81.52</td>\n",
       "      <td>82.80</td>\n",
       "      <td>16.62</td>\n",
       "    </tr>\n",
       "    <tr>\n",
       "      <td>146</td>\n",
       "      <td>2013</td>\n",
       "      <td>TOTAL</td>\n",
       "      <td>83.48</td>\n",
       "      <td>82.36</td>\n",
       "      <td>83.13</td>\n",
       "      <td>16.52</td>\n",
       "    </tr>\n",
       "    <tr>\n",
       "      <td>159</td>\n",
       "      <td>2014</td>\n",
       "      <td>TOTAL</td>\n",
       "      <td>84.51</td>\n",
       "      <td>81.06</td>\n",
       "      <td>83.43</td>\n",
       "      <td>15.49</td>\n",
       "    </tr>\n",
       "  </tbody>\n",
       "</table>\n",
       "</div>"
      ],
      "text/plain": [
       "     Year  Month  DOMESTIC  INTERNATIONAL  TOTAL  Unfilled_total\n",
       "107  2010  TOTAL     82.21          81.74  82.07           17.79\n",
       "120  2011  TOTAL     82.88          80.35  82.10           17.12\n",
       "133  2012  TOTAL     83.38          81.52  82.80           16.62\n",
       "146  2013  TOTAL     83.48          82.36  83.13           16.52\n",
       "159  2014  TOTAL     84.51          81.06  83.43           15.49"
      ]
     },
     "execution_count": 27,
     "metadata": {},
     "output_type": "execute_result"
    }
   ],
   "source": [
    "load_totals.tail()"
   ]
  },
  {
   "cell_type": "code",
   "execution_count": 28,
   "metadata": {},
   "outputs": [
    {
     "data": {
      "image/png": "[encoded data removed]",
      "text/plain": [
       "<Figure size 864x504 with 1 Axes>"
      ]
     },
     "metadata": {
      "needs_background": "light"
     },
     "output_type": "display_data"
    }
   ],
   "source": [
    "font = {'family': 'Arial',\n",
    "       'color': '#045a8d',\n",
    "       'size': 20}\n",
    "\n",
    "# prep data\n",
    "x = load_totals['Year'].values.tolist()\n",
    "y1 = load_totals['DOMESTIC'].values.tolist()\n",
    "y2 = load_totals['Unfilled_total'].values.tolist()\n",
    "y = np.vstack([y1, y2])\n",
    "labs = ['Load Factor', 'Unfilled']\n",
    "\n",
    "colors = ['#2b8cbe', '#d8d8d8']\n",
    "columns = ['Domestic', 'International']\n",
    "\n",
    "# draw plot\n",
    "fig, ax = plt.subplots(figsize = (12,7))\n",
    "ax = plt.gca()\n",
    "ax.stackplot(x, y, labels=labs, colors=colors, alpha=0.8)\n",
    "\n",
    "# change y axis starting point\n",
    "ax.set_ylim(0,100)\n",
    "\n",
    "# set labels\n",
    "ax.set_title('Domestic load factor has steady incline with recent high at 84.51%', fontdict=font)\n",
    "ax.set_ylabel('Percent', fontsize=15, color='#4c4c4c')\n",
    "ax.set_xlabel('Year', fontsize=15, color = '#4c4c4c')\n",
    "\n",
    "# set axis label positions\n",
    "ax.yaxis.set_label_coords(-.06,.94)\n",
    "ax.xaxis.set_label_coords(.03, -.06)\n",
    "ax.title.set_position([.355, 1.03])\n",
    "\n",
    "# legend and ticks\n",
    "#ax.legend(fontsize=13, ncol=1, loc='upper left', frameon=False)\n",
    "plt.xticks(x[::3], fontsize=13, horizontalalignment='center', color='#4c4c4c')\n",
    "plt.yticks(fontsize=14, color='#4c4c4c')\n",
    "\n",
    "plt.margins(0,0)\n",
    "\n",
    "# remove spines\n",
    "ax.spines['top'].set_visible(False)\n",
    "ax.spines['right'].set_visible(False)\n",
    "ax.spines['left'].set_visible(True)\n",
    "ax.spines['bottom'].set_visible(True)\n",
    "\n",
    "# spine color\n",
    "ax.spines['left'].set_color('#4c4c4c')\n",
    "ax.spines['bottom'].set_color('#4c4c4c')\n",
    "\n",
    "# tick line color\n",
    "for t in ax.xaxis.get_ticklines(): t.set_color('#4c4c4c')\n",
    "for t in ax.yaxis.get_ticklines(): t.set_color('#4c4c4c')\n",
    "\n",
    "plt.savefig('stacked_load_factor.svg', format='svg', dpi=300, bbox_inches='tight')\n",
    "plt.show()"
   ]
  },
  {
   "cell_type": "markdown",
   "metadata": {},
   "source": [
    "# Car Crash Data"
   ]
  },
  {
   "cell_type": "markdown",
   "metadata": {},
   "source": [
    "###  Car Fatal Crashes"
   ]
  },
  {
   "cell_type": "code",
   "execution_count": 29,
   "metadata": {},
   "outputs": [],
   "source": [
    "car_fatal = pd.read_excel('CarFatal.xlsx')"
   ]
  },
  {
   "cell_type": "code",
   "execution_count": 30,
   "metadata": {},
   "outputs": [],
   "source": [
    "car_fatal = car_fatal[car_fatal['Crash Date (Year)']!='Total']"
   ]
  },
  {
   "cell_type": "code",
   "execution_count": 31,
   "metadata": {},
   "outputs": [
    {
     "data": {
      "text/html": [
       "<div>\n",
       "<style scoped>\n",
       "    .dataframe tbody tr th:only-of-type {\n",
       "        vertical-align: middle;\n",
       "    }\n",
       "\n",
       "    .dataframe tbody tr th {\n",
       "        vertical-align: top;\n",
       "    }\n",
       "\n",
       "    .dataframe thead th {\n",
       "        text-align: right;\n",
       "    }\n",
       "</style>\n",
       "<table border=\"1\" class=\"dataframe\">\n",
       "  <thead>\n",
       "    <tr style=\"text-align: right;\">\n",
       "      <th></th>\n",
       "      <th>Crash Date (Year)</th>\n",
       "      <th>January</th>\n",
       "      <th>February</th>\n",
       "      <th>March</th>\n",
       "      <th>April</th>\n",
       "      <th>May</th>\n",
       "      <th>June</th>\n",
       "      <th>July</th>\n",
       "      <th>August</th>\n",
       "      <th>September</th>\n",
       "      <th>October</th>\n",
       "      <th>November</th>\n",
       "      <th>December</th>\n",
       "      <th>Total</th>\n",
       "    </tr>\n",
       "  </thead>\n",
       "  <tbody>\n",
       "    <tr>\n",
       "      <td>9</td>\n",
       "      <td>2013</td>\n",
       "      <td>2230</td>\n",
       "      <td>1952</td>\n",
       "      <td>2356</td>\n",
       "      <td>2300</td>\n",
       "      <td>2532</td>\n",
       "      <td>2692</td>\n",
       "      <td>2660</td>\n",
       "      <td>2899</td>\n",
       "      <td>2741</td>\n",
       "      <td>2768</td>\n",
       "      <td>2615</td>\n",
       "      <td>2457</td>\n",
       "      <td>30202</td>\n",
       "    </tr>\n",
       "    <tr>\n",
       "      <td>10</td>\n",
       "      <td>2014</td>\n",
       "      <td>2168</td>\n",
       "      <td>1893</td>\n",
       "      <td>2245</td>\n",
       "      <td>2308</td>\n",
       "      <td>2596</td>\n",
       "      <td>2583</td>\n",
       "      <td>2696</td>\n",
       "      <td>2800</td>\n",
       "      <td>2618</td>\n",
       "      <td>2831</td>\n",
       "      <td>2714</td>\n",
       "      <td>2604</td>\n",
       "      <td>30056</td>\n",
       "    </tr>\n",
       "  </tbody>\n",
       "</table>\n",
       "</div>"
      ],
      "text/plain": [
       "   Crash Date (Year)  January  February  March  April   May  June  July  \\\n",
       "9               2013     2230      1952   2356   2300  2532  2692  2660   \n",
       "10              2014     2168      1893   2245   2308  2596  2583  2696   \n",
       "\n",
       "    August  September  October  November  December  Total  \n",
       "9     2899       2741     2768      2615      2457  30202  \n",
       "10    2800       2618     2831      2714      2604  30056  "
      ]
     },
     "execution_count": 31,
     "metadata": {},
     "output_type": "execute_result"
    }
   ],
   "source": [
    "car_fatal.tail(2)"
   ]
  },
  {
   "cell_type": "markdown",
   "metadata": {},
   "source": [
    "### Car Injury Crashes"
   ]
  },
  {
   "cell_type": "code",
   "execution_count": 32,
   "metadata": {},
   "outputs": [],
   "source": [
    "car_injury = pd.read_excel('CarInjury.xlsx')"
   ]
  },
  {
   "cell_type": "code",
   "execution_count": 33,
   "metadata": {},
   "outputs": [],
   "source": [
    "car_injury = car_injury[car_injury['Crash Date (Year)']!='Total']"
   ]
  },
  {
   "cell_type": "code",
   "execution_count": 34,
   "metadata": {},
   "outputs": [
    {
     "data": {
      "text/html": [
       "<div>\n",
       "<style scoped>\n",
       "    .dataframe tbody tr th:only-of-type {\n",
       "        vertical-align: middle;\n",
       "    }\n",
       "\n",
       "    .dataframe tbody tr th {\n",
       "        vertical-align: top;\n",
       "    }\n",
       "\n",
       "    .dataframe thead th {\n",
       "        text-align: right;\n",
       "    }\n",
       "</style>\n",
       "<table border=\"1\" class=\"dataframe\">\n",
       "  <thead>\n",
       "    <tr style=\"text-align: right;\">\n",
       "      <th></th>\n",
       "      <th>Crash Date (Year)</th>\n",
       "      <th>January</th>\n",
       "      <th>February</th>\n",
       "      <th>March</th>\n",
       "      <th>April</th>\n",
       "      <th>May</th>\n",
       "      <th>June</th>\n",
       "      <th>July</th>\n",
       "      <th>August</th>\n",
       "      <th>September</th>\n",
       "      <th>October</th>\n",
       "      <th>November</th>\n",
       "      <th>December</th>\n",
       "      <th>Total</th>\n",
       "    </tr>\n",
       "  </thead>\n",
       "  <tbody>\n",
       "    <tr>\n",
       "      <td>9</td>\n",
       "      <td>2013</td>\n",
       "      <td>113869</td>\n",
       "      <td>108691</td>\n",
       "      <td>126013</td>\n",
       "      <td>130749</td>\n",
       "      <td>136085</td>\n",
       "      <td>136404</td>\n",
       "      <td>133793</td>\n",
       "      <td>137460</td>\n",
       "      <td>131935</td>\n",
       "      <td>145528</td>\n",
       "      <td>151010</td>\n",
       "      <td>139479</td>\n",
       "      <td>1591016</td>\n",
       "    </tr>\n",
       "    <tr>\n",
       "      <td>10</td>\n",
       "      <td>2014</td>\n",
       "      <td>129948</td>\n",
       "      <td>122053</td>\n",
       "      <td>127331</td>\n",
       "      <td>132330</td>\n",
       "      <td>141117</td>\n",
       "      <td>134636</td>\n",
       "      <td>129001</td>\n",
       "      <td>147014</td>\n",
       "      <td>147449</td>\n",
       "      <td>155099</td>\n",
       "      <td>133030</td>\n",
       "      <td>148718</td>\n",
       "      <td>1647726</td>\n",
       "    </tr>\n",
       "  </tbody>\n",
       "</table>\n",
       "</div>"
      ],
      "text/plain": [
       "   Crash Date (Year)  January  February   March   April     May    June  \\\n",
       "9               2013   113869    108691  126013  130749  136085  136404   \n",
       "10              2014   129948    122053  127331  132330  141117  134636   \n",
       "\n",
       "      July  August  September  October  November  December    Total  \n",
       "9   133793  137460     131935   145528    151010    139479  1591016  \n",
       "10  129001  147014     147449   155099    133030    148718  1647726  "
      ]
     },
     "execution_count": 34,
     "metadata": {},
     "output_type": "execute_result"
    }
   ],
   "source": [
    "car_injury.tail(2)"
   ]
  },
  {
   "cell_type": "markdown",
   "metadata": {},
   "source": [
    "### Car Property Damage"
   ]
  },
  {
   "cell_type": "code",
   "execution_count": 35,
   "metadata": {},
   "outputs": [],
   "source": [
    "car_property = pd.read_excel('CarProperty.xlsx')"
   ]
  },
  {
   "cell_type": "code",
   "execution_count": 36,
   "metadata": {},
   "outputs": [],
   "source": [
    "car_property = car_property[car_property['Crash Date (Year)']!='Total']"
   ]
  },
  {
   "cell_type": "code",
   "execution_count": 37,
   "metadata": {},
   "outputs": [
    {
     "data": {
      "text/html": [
       "<div>\n",
       "<style scoped>\n",
       "    .dataframe tbody tr th:only-of-type {\n",
       "        vertical-align: middle;\n",
       "    }\n",
       "\n",
       "    .dataframe tbody tr th {\n",
       "        vertical-align: top;\n",
       "    }\n",
       "\n",
       "    .dataframe thead th {\n",
       "        text-align: right;\n",
       "    }\n",
       "</style>\n",
       "<table border=\"1\" class=\"dataframe\">\n",
       "  <thead>\n",
       "    <tr style=\"text-align: right;\">\n",
       "      <th></th>\n",
       "      <th>Crash Date (Year)</th>\n",
       "      <th>January</th>\n",
       "      <th>February</th>\n",
       "      <th>March</th>\n",
       "      <th>April</th>\n",
       "      <th>May</th>\n",
       "      <th>June</th>\n",
       "      <th>July</th>\n",
       "      <th>August</th>\n",
       "      <th>September</th>\n",
       "      <th>October</th>\n",
       "      <th>November</th>\n",
       "      <th>December</th>\n",
       "      <th>Total</th>\n",
       "    </tr>\n",
       "  </thead>\n",
       "  <tbody>\n",
       "    <tr>\n",
       "      <td>9</td>\n",
       "      <td>2013</td>\n",
       "      <td>342798</td>\n",
       "      <td>331849</td>\n",
       "      <td>328900</td>\n",
       "      <td>307505</td>\n",
       "      <td>331728</td>\n",
       "      <td>305832</td>\n",
       "      <td>309210</td>\n",
       "      <td>323153</td>\n",
       "      <td>322878</td>\n",
       "      <td>379012</td>\n",
       "      <td>387868</td>\n",
       "      <td>394940</td>\n",
       "      <td>4065673</td>\n",
       "    </tr>\n",
       "    <tr>\n",
       "      <td>10</td>\n",
       "      <td>2014</td>\n",
       "      <td>450065</td>\n",
       "      <td>365468</td>\n",
       "      <td>365898</td>\n",
       "      <td>316521</td>\n",
       "      <td>339989</td>\n",
       "      <td>322971</td>\n",
       "      <td>329126</td>\n",
       "      <td>324752</td>\n",
       "      <td>341346</td>\n",
       "      <td>403247</td>\n",
       "      <td>430477</td>\n",
       "      <td>396643</td>\n",
       "      <td>4386502</td>\n",
       "    </tr>\n",
       "  </tbody>\n",
       "</table>\n",
       "</div>"
      ],
      "text/plain": [
       "   Crash Date (Year)  January  February   March   April     May    June  \\\n",
       "9               2013   342798    331849  328900  307505  331728  305832   \n",
       "10              2014   450065    365468  365898  316521  339989  322971   \n",
       "\n",
       "      July  August  September  October  November  December    Total  \n",
       "9   309210  323153     322878   379012    387868    394940  4065673  \n",
       "10  329126  324752     341346   403247    430477    396643  4386502  "
      ]
     },
     "execution_count": 37,
     "metadata": {},
     "output_type": "execute_result"
    }
   ],
   "source": [
    "car_property.tail(2)"
   ]
  },
  {
   "cell_type": "markdown",
   "metadata": {},
   "source": [
    "## Fatal Car Crashes"
   ]
  },
  {
   "cell_type": "code",
   "execution_count": 38,
   "metadata": {},
   "outputs": [
    {
     "data": {
      "image/png": "[encoded data removed]",
      "text/plain": [
       "<Figure size 864x504 with 1 Axes>"
      ]
     },
     "metadata": {
      "needs_background": "light"
     },
     "output_type": "display_data"
    }
   ],
   "source": [
    "# set default font color\n",
    "mpl.rcParams['text.color'] = '#4c4c4c'\n",
    "\n",
    "font = {'family': 'Arial',\n",
    "       'color': '#045a8d',\n",
    "       'size': 22}\n",
    "\n",
    "\n",
    "year = car_fatal['Crash Date (Year)']\n",
    "fatal_crashes = car_fatal['Total']\n",
    "\n",
    "# create figure\n",
    "fig, ax = plt.subplots(figsize = (12,7))\n",
    "\n",
    "# add bars\n",
    "ax.bar(year, fatal_crashes, color = \"#bfbfbf\", label='Fatal')\n",
    "\n",
    "# change axis starting point\n",
    "#ax.set_ylim(0,)\n",
    "ax.set_xlim(2003.4, 2014.6)\n",
    "\n",
    "# horizontal grid\n",
    "ax.yaxis.grid(False)\n",
    "\n",
    "# vertical grid\n",
    "ax.xaxis.grid(False)\n",
    "\n",
    "# set labels\n",
    "ax.set_title('Car crashes continue to soar every year', \n",
    "             x = -.1, pad = 15, fontdict=font)\n",
    "ax.set_ylabel('Total Fatal Crashes', fontsize = 15, color='#4c4c4c')\n",
    "ax.set_xlabel('Year', fontsize = 14, color='#4c4c4c')\n",
    "\n",
    "# set axis label positions\n",
    "ax.xaxis.set_label_coords(.05, -.08)\n",
    "ax.yaxis.set_label_coords(-.1,.8)\n",
    "ax.title.set_position([.16, .99])\n",
    "\n",
    "# ticks\n",
    "plt.xticks(fontsize=14, horizontalalignment='center', color='#191919')\n",
    "plt.yticks(fontsize=14, color='#4c4c4c')\n",
    "\n",
    "# add comma to y axis tick values\n",
    "ax.yaxis.set_major_formatter(mpl.ticker.StrMethodFormatter('{x:,.0f}'))\n",
    "\n",
    "# legend\n",
    "#ax.legend(ncol = 2, loc = 'upper right', prop={'size':15}).draw_frame(False)\n",
    "\n",
    "# remove spines\n",
    "ax.spines['top'].set_visible(False)\n",
    "ax.spines['right'].set_visible(False)\n",
    "ax.spines['left'].set_visible(False)\n",
    "ax.spines['bottom'].set_visible(True)\n",
    "\n",
    "# plot line\n",
    "plt.axhline(linewidth=2, color='#045a8d', linestyle = '--', y=30000)\n",
    "\n",
    "plt.savefig('fatal_car_bar.svg', format='svg', dpi=300, bbox_inches='tight')\n",
    "\n",
    "plt.show()"
   ]
  },
  {
   "cell_type": "markdown",
   "metadata": {},
   "source": [
    "## Airline Passenger Data"
   ]
  },
  {
   "cell_type": "code",
   "execution_count": 39,
   "metadata": {},
   "outputs": [],
   "source": [
    "air_pass = pd.read_csv('airline_passengers.csv')"
   ]
  },
  {
   "cell_type": "code",
   "execution_count": 40,
   "metadata": {},
   "outputs": [],
   "source": [
    "# filter only yearly totals\n",
    "air_pass = air_pass[air_pass['Month']=='TOTAL']"
   ]
  },
  {
   "cell_type": "code",
   "execution_count": 41,
   "metadata": {},
   "outputs": [],
   "source": [
    "# filter out years before 2015\n",
    "air_pass = air_pass[air_pass['Year']<=2014]"
   ]
  },
  {
   "cell_type": "code",
   "execution_count": 42,
   "metadata": {},
   "outputs": [],
   "source": [
    "air_pass['TOTAL'] = air_pass['TOTAL'].astype('str')\n",
    "air_pass['DOMESTIC'] = air_pass['DOMESTIC'].astype('str')\n",
    "air_pass['INTERNATIONAL'] = air_pass['INTERNATIONAL'].astype('str')"
   ]
  },
  {
   "cell_type": "code",
   "execution_count": 43,
   "metadata": {},
   "outputs": [],
   "source": [
    "# remove comma from number string\n",
    "air_pass['TOTAL'] = air_pass['TOTAL'].str.replace(',','')\n",
    "air_pass['DOMESTIC'] = air_pass['DOMESTIC'].str.replace(',','')\n",
    "air_pass['INTERNATIONAL'] = air_pass['INTERNATIONAL'].str.replace(',','')"
   ]
  },
  {
   "cell_type": "code",
   "execution_count": 44,
   "metadata": {},
   "outputs": [],
   "source": [
    "# convert to int\n",
    "air_pass['TOTAL'] = air_pass['TOTAL'].astype('int')\n",
    "air_pass['DOMESTIC'] = air_pass['DOMESTIC'].astype('int')\n",
    "air_pass['INTERNATIONAL'] = air_pass['INTERNATIONAL'].astype('int')"
   ]
  },
  {
   "cell_type": "markdown",
   "metadata": {},
   "source": [
    "### Airline Passgengers Traveled"
   ]
  },
  {
   "cell_type": "code",
   "execution_count": 45,
   "metadata": {},
   "outputs": [
    {
     "data": {
      "image/png": "[encoded data removed]",
      "text/plain": [
       "<Figure size 864x504 with 1 Axes>"
      ]
     },
     "metadata": {
      "needs_background": "light"
     },
     "output_type": "display_data"
    }
   ],
   "source": [
    "font = {'family': 'Arial',\n",
    "       'color': '#045a8d',\n",
    "       'size': 24}\n",
    "\n",
    "year = air_pass['Year']\n",
    "domestic = air_pass['DOMESTIC']/1000000\n",
    "international = air_pass['INTERNATIONAL']/1000000\n",
    "\n",
    "\n",
    "fig, ax = plt.subplots(figsize = (12,7))\n",
    "\n",
    "\n",
    "ax.plot(year, domestic, linewidth = 3.0, label='Domestic', color='#045a8d')\n",
    "ax.plot(year, international, linewidth = 3.0, label='International', color='#74a9cf')\n",
    "\n",
    "# change y axis starting point\n",
    "ax.set_ylim(0,800)\n",
    "\n",
    "# grid\n",
    "ax.xaxis.grid(False)\n",
    "ax.yaxis.grid(False)\n",
    "\n",
    "# set labels\n",
    "ax.set_title(\"Domestic and international airline passengers continue to increase\", \n",
    "             x = -.14, pad = 19, fontdict=font)\n",
    "ax.set_xlabel('Year', fontsize = 14, color='#4c4c4c')\n",
    "ax.set_ylabel('Flying Passengers (in millions)', fontsize = 14, color='#4c4c4c')\n",
    "\n",
    "# set axis label positions\n",
    "ax.yaxis.set_label_coords(-.06,.71)\n",
    "ax.xaxis.set_label_coords(.045, -.08)\n",
    "ax.title.set_position([.44, 1.5])\n",
    "\n",
    "# legend and ticks\n",
    "#ax.legend(fontsize=13, ncol=1, loc='upper left', frameon=False)\n",
    "plt.xticks(fontsize=13, horizontalalignment='center', color='#4c4c4c')\n",
    "plt.yticks(fontsize=13, color='#4c4c4c')\n",
    "\n",
    "# remove spines\n",
    "ax.spines['top'].set_visible(False)\n",
    "ax.spines['right'].set_visible(False)\n",
    "ax.spines['left'].set_visible(True)\n",
    "ax.spines['bottom'].set_visible(True)\n",
    "\n",
    "# spine color\n",
    "ax.spines['left'].set_color('#4c4c4c')\n",
    "ax.spines['bottom'].set_color('#4c4c4c')\n",
    "\n",
    "# tick line color\n",
    "for t in ax.xaxis.get_ticklines(): t.set_color('#4c4c4c')\n",
    "for t in ax.yaxis.get_ticklines(): t.set_color('#4c4c4c')\n",
    "\n",
    "# add comma to y axis tick values\n",
    "ax.yaxis.set_major_formatter(mpl.ticker.StrMethodFormatter('{x:,.0f}'))\n",
    "\n",
    "# export\n",
    "plt.savefig('dom_int_pass_line.svg', format='svg', dpi=300, bbox_inches='tight')\n",
    "\n",
    "plt.show()"
   ]
  },
  {
   "cell_type": "markdown",
   "metadata": {},
   "source": [
    "### Percent of Airline Incidents"
   ]
  },
  {
   "cell_type": "code",
   "execution_count": 46,
   "metadata": {},
   "outputs": [
    {
     "data": {
      "text/html": [
       "<div>\n",
       "<style scoped>\n",
       "    .dataframe tbody tr th:only-of-type {\n",
       "        vertical-align: middle;\n",
       "    }\n",
       "\n",
       "    .dataframe tbody tr th {\n",
       "        vertical-align: top;\n",
       "    }\n",
       "\n",
       "    .dataframe thead th {\n",
       "        text-align: right;\n",
       "    }\n",
       "</style>\n",
       "<table border=\"1\" class=\"dataframe\">\n",
       "  <thead>\n",
       "    <tr style=\"text-align: right;\">\n",
       "      <th></th>\n",
       "      <th>Type</th>\n",
       "      <th>Total</th>\n",
       "    </tr>\n",
       "  </thead>\n",
       "  <tbody>\n",
       "    <tr>\n",
       "      <td>0</td>\n",
       "      <td>Non-Fatal Incidents</td>\n",
       "      <td>194</td>\n",
       "    </tr>\n",
       "    <tr>\n",
       "      <td>1</td>\n",
       "      <td>Fatal Incidents</td>\n",
       "      <td>37</td>\n",
       "    </tr>\n",
       "  </tbody>\n",
       "</table>\n",
       "</div>"
      ],
      "text/plain": [
       "                  Type  Total\n",
       "0  Non-Fatal Incidents    194\n",
       "1      Fatal Incidents     37"
      ]
     },
     "execution_count": 46,
     "metadata": {},
     "output_type": "execute_result"
    }
   ],
   "source": [
    "incidents = np.sum(air['incident_without_fatal_00_14'])\n",
    "fatal = np.sum(air['fatal_accidents_00_14'])\n",
    "\n",
    "data = [['Non-Fatal Incidents', incidents], ['Fatal Incidents', fatal]]\n",
    "\n",
    "accidents = pd.DataFrame(data, columns = ['Type', 'Total'])\n",
    "accidents"
   ]
  },
  {
   "cell_type": "code",
   "execution_count": 47,
   "metadata": {},
   "outputs": [],
   "source": [
    "# set up data\n",
    "labels = accidents['Type']\n",
    "sizes = accidents['Total']\n",
    "\n",
    "# colorblind safe colors\n",
    "colors = ['#74a9cf', '#d0d1e6']"
   ]
  },
  {
   "cell_type": "code",
   "execution_count": 48,
   "metadata": {},
   "outputs": [
    {
     "data": {
      "image/png": "[encoded data removed]",
      "text/plain": [
       "<Figure size 432x432 with 1 Axes>"
      ]
     },
     "metadata": {},
     "output_type": "display_data"
    }
   ],
   "source": [
    "font = {'family': 'Arial',\n",
    "       'color': '#045a8d',\n",
    "       'size': 20}\n",
    "\n",
    "# create figure\n",
    "fig, ax = plt.subplots(figsize = (6,6))\n",
    "\n",
    "# create pie chart\n",
    "ax.pie(sizes, colors = colors, startangle = 120)\n",
    "\n",
    "# ensures pie is drawn as a circle\n",
    "ax.axis('equal')\n",
    "\n",
    "# add title and subtitle\n",
    "ax.set_title('Airline Incidents: 2000-2014', fontdict=font, pad=10, loc='center')\n",
    "\n",
    "# set axis label positions\n",
    "\n",
    "#ax.title.set_position([.4, 0])\n",
    "\n",
    "plt.savefig('incidents_pie_nolabs.svg', format='svg', dpi=300, bbox_inches='tight')\n",
    "plt.show()"
   ]
  },
  {
   "cell_type": "markdown",
   "metadata": {},
   "source": [
    "Resources:\n",
    "\n",
    "https://www.transtats.bts.gov/Data_Elements.aspx?Data=3\n",
    "\n",
    "https://github.com/fivethirtyeight/data/tree/master/airline-safety\n",
    "\n",
    "https://cdan.dot.gov/query\n",
    "\n",
    "https://www.transtats.bts.gov/Data_Elements.aspx?Data=3\n",
    "\n",
    "https://www.transtats.bts.gov/Data_Elements.aspx?Data=3"
   ]
  }
 ],
 "metadata": {
  "kernelspec": {
   "display_name": "Python 3",
   "language": "python",
   "name": "python3"
  },
  "language_info": {
   "codemirror_mode": {
    "name": "ipython",
    "version": 3
   },
   "file_extension": ".py",
   "mimetype": "text/x-python",
   "name": "python",
   "nbconvert_exporter": "python",
   "pygments_lexer": "ipython3",
   "version": "3.7.4"
  }
 },
 "nbformat": 4,
 "nbformat_minor": 2
}
